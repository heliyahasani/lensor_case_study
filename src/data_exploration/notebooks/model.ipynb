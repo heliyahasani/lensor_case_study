{
 "cells": [
  {
   "cell_type": "code",
   "execution_count": 5,
   "metadata": {},
   "outputs": [],
   "source": [
    "import os\n",
    "import cv2\n",
    "import numpy as np\n",
    "from PIL import Image\n",
    "\n",
    "def coco_to_pascal(box):\n",
    "    \"\"\"\n",
    "    Convert bounding box from COCO format to Pascal VOC format.\n",
    "    \n",
    "    COCO format: [x, y, width, height]\n",
    "    Pascal VOC format: [x_min, y_min, x_max, y_max]\n",
    "    \"\"\"\n",
    "    x, y, w, h = box\n",
    "    return [x, y, x + w, y + h]\n",
    "\n",
    "def draw_bounding_boxes(image_path, bboxes, save_path=None):\n",
    "    \"\"\"\n",
    "    Draw bounding boxes on the image.\n",
    "\n",
    "    :param image_path: Path to the image file.\n",
    "    :param bboxes: List of bounding boxes in COCO format.\n",
    "    :param save_path: Path to save the image with bounding boxes. If None, the image will be displayed.\n",
    "    \"\"\"\n",
    "    # Read the image\n",
    "    image = cv2.imread(image_path)\n",
    "    if image is None:\n",
    "        raise FileNotFoundError(f\"Image not found at {image_path}\")\n",
    "    \n",
    "    # Convert bounding boxes to Pascal VOC format and draw them\n",
    "    for bbox in bboxes:\n",
    "        pascal_bbox = coco_to_pascal(bbox)\n",
    "        x_min, y_min, x_max, y_max = map(int, pascal_bbox)\n",
    "        cv2.rectangle(image, (x_min, y_min), (x_max, y_max), color=(0, 255, 0), thickness=2)\n",
    "    \n",
    "    if save_path:\n",
    "        cv2.imwrite(save_path, image)\n",
    "    else:\n",
    "        cv2.imshow(\"Image with Bounding Boxes\", image)\n",
    "        cv2.waitKey(0)\n",
    "        cv2.destroyAllWindows()\n",
    "\n",
    "# Example usage:\n",
    "image_path = '/Users/heliyahasani/Desktop/lensor_case_study/raw/images/train/aug_moderate-broken_1_41_jpg.rf.1d7f0b800aa6d10507c78d55f4e495e0.jpg'\n",
    "bboxes = [[20.375000000000014,198.0,338.625,357.25]]  \n",
    "save_path = 'image_with_boxes.jpg'\n",
    "draw_bounding_boxes(image_path, bboxes, save_path)\n"
   ]
  },
  {
   "cell_type": "code",
   "execution_count": null,
   "metadata": {},
   "outputs": [],
   "source": []
  },
  {
   "cell_type": "code",
   "execution_count": null,
   "metadata": {},
   "outputs": [],
   "source": []
  },
  {
   "cell_type": "code",
   "execution_count": null,
   "metadata": {},
   "outputs": [],
   "source": []
  }
 ],
 "metadata": {
  "kernelspec": {
   "display_name": "lensor-case-study-k2oTg7Co-py3.10",
   "language": "python",
   "name": "python3"
  },
  "language_info": {
   "codemirror_mode": {
    "name": "ipython",
    "version": 3
   },
   "file_extension": ".py",
   "mimetype": "text/x-python",
   "name": "python",
   "nbconvert_exporter": "python",
   "pygments_lexer": "ipython3",
   "version": "3.10.4"
  }
 },
 "nbformat": 4,
 "nbformat_minor": 2
}
